{
 "cells": [
  {
   "cell_type": "markdown",
   "id": "5b10791d",
   "metadata": {},
   "source": [
    "### 实际上按照指引, 你应该实现的是这个版本的代码"
   ]
  },
  {
   "cell_type": "code",
   "execution_count": null,
   "id": "477de28c",
   "metadata": {},
   "outputs": [],
   "source": [
    "# 主函数逐步补充为这个样子\n",
    "import numpy\n",
    "import scipy.special\n",
    "# 这里是主函数的定义, 定义为参数方式, 使用起来更方便\n",
    "def nn(inputnode, hiddenode, outputnode, learnrate):\n",
    "    # 定义参数, 网络分为三层, 这里定义每层的节点数--------------\n",
    "    nn.inputnode=inputnode # 输入层网络节点数量\n",
    "    nn.hiddenode=hiddenode # 隐藏层节点数量\n",
    "    nn.outputnode=outputnode # 输出层节点数量\n",
    "    # 正态分布初始化\n",
    "    nn.ih = numpy.random.normal(0.0, pow(nn.hiddenode, -0.5),(nn.hiddenode, nn.inputnode))\n",
    "    nn.ho = numpy.random.normal(0.0, pow(nn.outputnode, -0.5),(nn.outputnode, nn.hiddenode))\n",
    "    # 启动函数 activation function 就是节点运算的函数\n",
    "    nn.active_f=lambda x: scipy.special.expit(x)\n",
    "    nn.learnrate=learnrate # 这个比率是学习的速率\n",
    "    # 查询函数, 参数是一个list(数组)\n",
    "    # 未来调用: query([1.0,0.5,-1.5])\n",
    "    def query(inpl): # inpl是输入向量\n",
    "        # ----------这里是我偷偷插入的一行, 没什么可讲的, 就是把一维数组(向量), 整理成为二维矩阵\n",
    "        inp=numpy.array(inpl, ndmin=2).T\n",
    "        # 矩阵乘法如此简单\n",
    "        hli=numpy.dot(nn.ih, inp)   # hidden level input\n",
    "        hlo = nn.active_f(hli) # hidden level output 隐藏层输出等于用s函数处理一下输入\n",
    "        # 输出层, 一毛一样\n",
    "        oli=numpy.dot(nn.ho, hlo)\n",
    "        olo = nn.active_f(oli)\n",
    "        return olo\n",
    "    nn.query=query\n",
    "    # 此句保证可以这样调用: nn.query([1.0,0.5,-1.5])\n",
    "    def train(inpl,tarl): # inpl是输入向量, tarl是校验向量\n",
    "        # -----和query一毛一样的5行代码------\n",
    "        inp=numpy.array(inpl, ndmin=2).T\n",
    "        hli=numpy.dot(nn.ih, inp)   \n",
    "        hlo = nn.active_f(hli) \n",
    "        oli=numpy.dot(nn.ho, hlo)   \n",
    "        olo = nn.active_f(oli) \n",
    "        # ------从这里开始是不一样的代码了------------\n",
    "        # 增加了目标数组\n",
    "        tar=numpy.array(tarl, ndmin=2).T\n",
    "        # 因为是训练函数, 所以, 我们是有预期结果的, 这种有预期结果的训练就叫: 有监督训练\n",
    "        # nn.learnrate=0.5 # 之前设置的这个比率真的用在了这里, 这个是学习的速率\n",
    "\n",
    "        # 运算结果就需要做反向传播调整了\n",
    "        ## 拿到误差\n",
    "        output_error=tar -olo # 最终结果误差\n",
    "        # python做矩阵减法, 非常直观\n",
    "\n",
    "        hidden_error=numpy.dot(nn.ho.T, output_error) \n",
    "        # hidden层的误差, 这里又是一次矩阵乘法\n",
    "\n",
    "        ## 修正权重\n",
    "        nn.ho += nn.learnrate*numpy.dot( output_error*(olo*(1-olo)), numpy.transpose(hlo))\n",
    "        # 还记得吗? nn.learnrate 就是一开始设置的学习比率, 这里才用到\n",
    "        # 主运算符 a+=b 和其他语言一致, 代表 a=a+b, 意思就是隐藏到输出的那个矩阵做一次加法, 对自身进行修正\n",
    "        # 隐藏层到输出层的权重矩阵 += 学习速率* 矩阵乘法, 这个矩阵乘法的解释如下: \n",
    "        # olo*(1-olo)这个是一个S函数, 然后作用于输出误差矩阵, 还记得吗? 启动函数active_f用的也是他\n",
    "        # hlo要进行转置才能和output_error结果误差做矩阵乘法(点乘)\n",
    "\n",
    "        # 如果理解了上面那一句, 那么下面是输入到隐藏层的权重调整, 几乎一毛一样\n",
    "        nn.ih += nn.learnrate*numpy.dot( hidden_error*(hlo*(1-hlo)), numpy.transpose(inp))\n",
    "    nn.train=train"
   ]
  },
  {
   "cell_type": "code",
   "execution_count": null,
   "id": "3a38b434",
   "metadata": {},
   "outputs": [],
   "source": [
    "#导入数据文件\n",
    "dfile=open(\"./mnist_train_100.csv\",'r')\n",
    "# 读取数据, readlines函数按照[行]读入所有数据\n",
    "dlist=dfile.readlines()\n",
    "# 关闭文件\n",
    "dfile.close()\n",
    "\n",
    "# 引入绘图包\n",
    "import matplotlib.pyplot as plt\n",
    "# 读第一条数据, 并且格式化成为数组(list)\n",
    "a=dlist[0].split(',')# 这里dlist[0]代表第一条, 可以换换其他数字试试\n",
    "print(a[0]) # 看一下这个数组的第一个元素, 这个元素是这个数组实际的数字值\n"
   ]
  },
  {
   "cell_type": "code",
   "execution_count": null,
   "id": "02dae283",
   "metadata": {},
   "outputs": [],
   "source": [
    "# 初始化nn函数\n",
    "nn(28*28, 100, 10, 0.3)\n",
    "# 训练所有数据\n",
    "for re in dlist:\n",
    "    a=re.split(',') # 把字符串用逗号拆成数组\n",
    "    # 这里是把颜色的数字压缩到0-1之间, 颜色数值一般是0-255, 如果不缩数字持续乘法会导致过大, 大到超过计算机能处理的极限\n",
    "    ia=(numpy.asfarray(a[1:])/255.0*0.99+0.01)\n",
    "    # 制造训练的target数据\n",
    "    targetv=numpy.zeros(nn.outputnode) +0.01 # 整体都初始化为0.01\n",
    "    # 因为第一个数字是这一行数据的数字, 所以用这个数字做target是非常合理的\n",
    "    targetv[int(a[0])]=0.99 # 只有目标的值是0.99, 其他值应该都是0.01\n",
    "    # 开始训练\n",
    "    nn.train(ia, targetv)\n",
    "# 好了, 可以测试运行一下, 看看是否有啥拼写错误"
   ]
  }
 ],
 "metadata": {
  "kernelspec": {
   "display_name": "Python 3 (ipykernel)",
   "language": "python",
   "name": "python3"
  },
  "language_info": {
   "codemirror_mode": {
    "name": "ipython",
    "version": 3
   },
   "file_extension": ".py",
   "mimetype": "text/x-python",
   "name": "python",
   "nbconvert_exporter": "python",
   "pygments_lexer": "ipython3",
   "version": "3.9.7"
  }
 },
 "nbformat": 4,
 "nbformat_minor": 5
}
