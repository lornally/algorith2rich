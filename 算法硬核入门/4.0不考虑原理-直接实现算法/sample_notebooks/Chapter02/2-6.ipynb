{
 "cells": [
  {
   "cell_type": "markdown",
   "metadata": {},
   "source": [
    "# 示例代码"
   ]
  },
  {
   "cell_type": "code",
   "execution_count": 1,
   "metadata": {},
   "outputs": [
    {
     "data": {
      "text/plain": [
       "array([1])"
      ]
     },
     "execution_count": 1,
     "metadata": {},
     "output_type": "execute_result"
    }
   ],
   "source": [
    "from sklearn.naive_bayes import MultinomialNB\n",
    "\n",
    "# 数据生成\n",
    "X_train = [[1, 1, 0, 0, 0, 1, 0, 0, 0, 0, 0],\n",
    "[0, 1, 1, 1, 0, 0, 0, 0, 0, 0, 0],\n",
    "[1, 0, 0, 0, 1, 1, 0, 0, 0, 0, 0],\n",
    "[0, 0, 0, 0, 0, 0, 1, 1, 0, 0, 0],\n",
    "[0, 0, 0, 0, 0, 0, 0, 1, 1, 1, 0],\n",
    "[0, 0, 0, 0, 0, 1, 1, 1, 0, 0, 1]]\n",
    "y_train = [1, 1, 1, 0, 0, 0]\n",
    "model = MultinomialNB()\n",
    "model.fit(X_train, y_train) # 训练\n",
    "model.predict([[1, 1, 0, 0, 0, 1, 0, 0, 0, 0, 0]]) # 评估"
   ]
  },
  {
   "cell_type": "code",
   "execution_count": null,
   "metadata": {},
   "outputs": [],
   "source": []
  }
 ],
 "metadata": {
  "kernelspec": {
   "display_name": "Python 3",
   "language": "python",
   "name": "python3"
  },
  "language_info": {
   "codemirror_mode": {
    "name": "ipython",
    "version": 3
   },
   "file_extension": ".py",
   "mimetype": "text/x-python",
   "name": "python",
   "nbconvert_exporter": "python",
   "pygments_lexer": "ipython3",
   "version": "3.8.3"
  }
 },
 "nbformat": 4,
 "nbformat_minor": 2
}
