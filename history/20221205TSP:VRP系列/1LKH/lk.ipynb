{
 "cells": [
  {
   "cell_type": "code",
   "execution_count": null,
   "metadata": {},
   "outputs": [],
   "source": [
    "def lk_algorithm(path, distance_matrix):\n",
    "    path_length = calculate_path_length(path, distance_matrix)\n",
    "    improvement = True\n",
    "\n",
    "    while improvement:\n",
    "        improvement = False\n",
    "        for i in range(1, len(path) - 2):\n",
    "            for j in range(i + 2, len(path)):\n",
    "                if j == len(path) - 1 and i == 1:\n",
    "                    continue\n",
    "                if is_feasible_exchange(path, i, j):\n",
    "                    new_path = exchange_segments(path, i, j)\n",
    "                    new_path_length = calculate_path_length(new_path, distance_matrix)\n",
    "                    if new_path_length < path_length:\n",
    "                        path = new_path\n",
    "                        path_length = new_path_length\n",
    "                        improvement = True\n",
    "\n",
    "    return path\n",
    "\n",
    "def is_feasible_exchange(path, i, j):\n",
    "    return True  # 实现你的判断逻辑，检查交换是否可行\n",
    "\n",
    "def exchange_segments(path, i, j):\n",
    "    new_path = path[:]\n",
    "    new_path[i:j+1] = path[j:i-1:-1]\n",
    "    return new_path\n",
    "\n",
    "def calculate_path_length(path, distance_matrix):\n",
    "    length = 0\n",
    "    for i in range(len(path) - 1):\n",
    "        length += distance_matrix[path[i]][path[i+1]]\n",
    "    return length\n"
   ]
  }
 ],
 "metadata": {
  "language_info": {
   "name": "python"
  },
  "orig_nbformat": 4
 },
 "nbformat": 4,
 "nbformat_minor": 2
}
