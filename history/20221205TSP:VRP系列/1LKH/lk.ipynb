{
 "cells": [
  {
   "cell_type": "code",
   "execution_count": 5,
   "metadata": {},
   "outputs": [
    {
     "name": "stdout",
     "output_type": "stream",
     "text": [
      "[0, 1, 2, 3, 4, 5, 6, 7, 8, 9, 10, 11, 12, 13, 14, 15]\n",
      "[0, 1, 2, 15, 14, 13, 12, 11, 10, 9, 8, 7, 6, 5, 4, 3]\n",
      "path[jj-1:i-1:-1]: [15, 14, 13, 12, 11, 10, 9, 8, 7, 6, 5, 4, 3]\n"
     ]
    }
   ],
   "source": [
    "path=[0,1,2,3,4,5,6,7,8,9,10,11,12,13,14,15]\n",
    "i,jj=3,len(path)\n",
    "new_path = path[:]\n",
    "print(new_path)\n",
    "new_path[i:jj] = path[jj-1:i-1:-1]\n",
    "print(new_path)\n",
    "print('path[jj-1:i-1:-1]:',path[jj-1:i-1:-1])"
   ]
  },
  {
   "cell_type": "code",
   "execution_count": 1,
   "metadata": {},
   "outputs": [
    {
     "name": "stdout",
     "output_type": "stream",
     "text": [
      "[1, 2]\n"
     ]
    }
   ],
   "source": [
    "path=[0,1,2,3,4,5,6,7,8,9,10,11,12,13,14,15]\n",
    "print(path[1:3])"
   ]
  },
  {
   "cell_type": "code",
   "execution_count": null,
   "metadata": {},
   "outputs": [],
   "source": [
    "def lk_algorithm(path, distance_matrix):\n",
    "    path_length = calculate_path_length(path, distance_matrix)\n",
    "    improvement = True\n",
    "\n",
    "    while improvement:\n",
    "        improvement = False\n",
    "        for i in range(1, len(path) - 2):\n",
    "            for j in range(i + 2, len(path)):\n",
    "                if j == len(path) - 1 and i == 1:\n",
    "                    continue\n",
    "                if is_feasible_exchange(path, i, j):\n",
    "                    new_path = exchange_segments(path, i, j)\n",
    "                    new_path_length = calculate_path_length(new_path, distance_matrix)\n",
    "                    if new_path_length < path_length:\n",
    "                        path = new_path\n",
    "                        path_length = new_path_length\n",
    "                        improvement = True\n",
    "\n",
    "    return path\n",
    "\n",
    "def is_feasible_exchange(path, i, j):\n",
    "    return True  # 实现你的判断逻辑，检查交换是否可行\n",
    "\n",
    "def exchange_segments(path, i, j):\n",
    "    new_path = path[:]\n",
    "    new_path[i:j+1] = path[j:i-1:-1]\n",
    "    return new_path\n",
    "\n",
    "def calculate_path_length(path, distance_matrix):\n",
    "    length = 0\n",
    "    for i in range(len(path) - 1):\n",
    "        length += distance_matrix[path[i]][path[i+1]]\n",
    "    return length\n"
   ]
  },
  {
   "cell_type": "code",
   "execution_count": null,
   "metadata": {},
   "outputs": [],
   "source": [
    "#* --------神奇的猪给的代码copilot生成的代码----------------\n",
    "\n",
    "\n",
    "def lin_kernighan(path):\n",
    "    # 选择起点和终点\n",
    "    start, end = path[0], path[-1]\n",
    "\n",
    "    # 构建初始路径\n",
    "    current_path = path.copy()\n",
    "\n",
    "    # 初始化路径改进标志\n",
    "    improved = True\n",
    "\n",
    "    # 循环直到路径无法再改进为止\n",
    "    while improved:\n",
    "        # 标记路径未改进\n",
    "        improved = False\n",
    "\n",
    "        # 遍历所有节点对\n",
    "        for i in range(len(current_path) - 2):\n",
    "            for j in range(i + 2, len(current_path)):\n",
    "                # 将路径分为两个部分\n",
    "                part1 = current_path[:i+1]\n",
    "                part2 = current_path[i+1:j+1]\n",
    "                part3 = current_path[j+1:]\n",
    "\n",
    "                # 计算所有可能的交换\n",
    "                swaps = calculate_swaps(part1, part2, part3)\n",
    "\n",
    "                # 选择最优的交换\n",
    "                best_swap = select_best_swap(swaps)\n",
    "\n",
    "                # 如果交换可以改善路径，则执行交换\n",
    "                if best_swap is not None:\n",
    "                    improved = True\n",
    "                    current_path = apply_swap(current_path, best_swap)\n",
    "                    break\n",
    "\n",
    "            if improved:\n",
    "                break\n",
    "\n",
    "    # 返回优化后的路径\n",
    "    return current_path"
   ]
  },
  {
   "cell_type": "code",
   "execution_count": null,
   "metadata": {},
   "outputs": [],
   "source": [
    "# * 这里的实现, 基于一个环路\n",
    "\n",
    "def calculate_swaps(part1, part2, part3):\n",
    "    swaps = []\n",
    "\n",
    "    # 计算 2-opt 交换\n",
    "    for i in range(len(part1)):\n",
    "        for j in range(len(part2)):\n",
    "            new_part2 = part2[:j] + part2[j:i+1][::-1] + part2[i+1:]\n",
    "            new_path = part1 + new_part2 + part3\n",
    "            swaps.append((new_path, '2-opt'))\n",
    "\n",
    "    # 计算 3-opt 交换\n",
    "    for i in range(len(part1)):\n",
    "        for j in range(len(part2)):\n",
    "            for k in range(len(part3)):\n",
    "                if i == 0 and k == len(part3) - 1:\n",
    "                    continue\n",
    "                if j == 0 and k == len(part3) - 1:\n",
    "                    continue\n",
    "                if i == 0 and j == len(part2) - 1:\n",
    "                    continue\n",
    "                if i == len(part1) - 1 and j == 0:\n",
    "                    continue\n",
    "                if i == len(part1) - 1 and k == 0:\n",
    "                    continue\n",
    "                if j == len(part2) - 1 and k == 0:\n",
    "                    continue\n",
    "\n",
    "                new_part2 = part2[:j] + part2[i+1:]\n",
    "                new_part3 = part3[:k] + part2[j:i+1][::-1] + part3[k:]\n",
    "                new_path = part1 + new_part2 + new_part3\n",
    "                swaps.append((new_path, '3-opt'))\n",
    "\n",
    "    return swaps"
   ]
  }
 ],
 "metadata": {
  "kernelspec": {
   "display_name": "Python 3",
   "language": "python",
   "name": "python3"
  },
  "language_info": {
   "codemirror_mode": {
    "name": "ipython",
    "version": 3
   },
   "file_extension": ".py",
   "mimetype": "text/x-python",
   "name": "python",
   "nbconvert_exporter": "python",
   "pygments_lexer": "ipython3",
   "version": "3.11.4"
  },
  "orig_nbformat": 4
 },
 "nbformat": 4,
 "nbformat_minor": 2
}
