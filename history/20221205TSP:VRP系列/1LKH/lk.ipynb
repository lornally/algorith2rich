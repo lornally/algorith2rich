{
 "cells": [
  {
   "cell_type": "code",
   "execution_count": 5,
   "metadata": {},
   "outputs": [
    {
     "name": "stdout",
     "output_type": "stream",
     "text": [
      "[0, 1, 2, 3, 4, 5, 6, 7, 8, 9, 10, 11, 12, 13, 14, 15]\n",
      "[0, 1, 2, 15, 14, 13, 12, 11, 10, 9, 8, 7, 6, 5, 4, 3]\n",
      "path[jj-1:i-1:-1]: [15, 14, 13, 12, 11, 10, 9, 8, 7, 6, 5, 4, 3]\n"
     ]
    }
   ],
   "source": [
    "path=[0,1,2,3,4,5,6,7,8,9,10,11,12,13,14,15]\n",
    "i,jj=3,len(path)\n",
    "new_path = path[:]\n",
    "print(new_path)\n",
    "new_path[i:jj] = path[jj-1:i-1:-1]\n",
    "print(new_path)\n",
    "print('path[jj-1:i-1:-1]:',path[jj-1:i-1:-1])"
   ]
  },
  {
   "cell_type": "code",
   "execution_count": 1,
   "metadata": {},
   "outputs": [
    {
     "name": "stdout",
     "output_type": "stream",
     "text": [
      "[1, 2]\n"
     ]
    }
   ],
   "source": [
    "path=[0,1,2,3,4,5,6,7,8,9,10,11,12,13,14,15]\n",
    "print(path[1:3])"
   ]
  },
  {
   "cell_type": "code",
   "execution_count": null,
   "metadata": {},
   "outputs": [],
   "source": [
    "def lk_algorithm(path, distance_matrix):\n",
    "    path_length = calculate_path_length(path, distance_matrix)\n",
    "    improvement = True\n",
    "\n",
    "    while improvement:\n",
    "        improvement = False\n",
    "        for i in range(1, len(path) - 2):\n",
    "            for j in range(i + 2, len(path)):\n",
    "                if j == len(path) - 1 and i == 1:\n",
    "                    continue\n",
    "                if is_feasible_exchange(path, i, j):\n",
    "                    new_path = exchange_segments(path, i, j)\n",
    "                    new_path_length = calculate_path_length(new_path, distance_matrix)\n",
    "                    if new_path_length < path_length:\n",
    "                        path = new_path\n",
    "                        path_length = new_path_length\n",
    "                        improvement = True\n",
    "\n",
    "    return path\n",
    "\n",
    "def is_feasible_exchange(path, i, j):\n",
    "    return True  # 实现你的判断逻辑，检查交换是否可行\n",
    "\n",
    "def exchange_segments(path, i, j):\n",
    "    new_path = path[:]\n",
    "    new_path[i:j+1] = path[j:i-1:-1]\n",
    "    return new_path\n",
    "\n",
    "def calculate_path_length(path, distance_matrix):\n",
    "    length = 0\n",
    "    for i in range(len(path) - 1):\n",
    "        length += distance_matrix[path[i]][path[i+1]]\n",
    "    return length\n"
   ]
  }
 ],
 "metadata": {
  "kernelspec": {
   "display_name": "Python 3",
   "language": "python",
   "name": "python3"
  },
  "language_info": {
   "codemirror_mode": {
    "name": "ipython",
    "version": 3
   },
   "file_extension": ".py",
   "mimetype": "text/x-python",
   "name": "python",
   "nbconvert_exporter": "python",
   "pygments_lexer": "ipython3",
   "version": "3.11.4"
  },
  "orig_nbformat": 4
 },
 "nbformat": 4,
 "nbformat_minor": 2
}
